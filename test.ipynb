{
 "cells": [
  {
   "cell_type": "code",
   "execution_count": 80,
   "metadata": {},
   "outputs": [],
   "source": [
    "from pathlib import Path\n",
    "import pandas as pd\n",
    "import cx_Oracle"
   ]
  },
  {
   "cell_type": "code",
   "execution_count": 71,
   "metadata": {},
   "outputs": [],
   "source": [
    "input_path = Path(r\"C:\\Users\\jact0355\\Desktop\\Test\\input\")"
   ]
  },
  {
   "cell_type": "code",
   "execution_count": 76,
   "metadata": {},
   "outputs": [],
   "source": [
    "def clean_revenue_share(df):\n",
    "    # Remove leading and trailing spaces\n",
    "    df = df.applymap(lambda x: x.strip() if isinstance(x, str) else x)\n",
    "    # Change date to datetime format\n",
    "    df['Start date'] = pd.to_datetime(df['Start date'], format='%Y-%m-%d')\n",
    "    df['End date'] = pd.to_datetime(df['End date'], format='%Y-%m-%d')\n",
    "    # Change country, currency, payable type, invoice currency to uppercase\n",
    "    df['Country'] = df['Country'].str.upper()\n",
    "    df['Currency'] = df['Currency'].str.upper()\n",
    "    df['Payable type'] = df['Payable type'].str.upper()\n",
    "    df['Invoice Currency'] = df['Invoice Currency'].str.upper()\n",
    "    # Change all Nan value in Minima per user to 0\n",
    "    df['Minima per user'] = df['Minima per user'].fillna(0)\n",
    "    return df"
   ]
  },
  {
   "cell_type": "code",
   "execution_count": 77,
   "metadata": {},
   "outputs": [],
   "source": [
    "def insert_revenue_share(rows, file):\n",
    "    connection = cx_Oracle.connect('ddr','ddr', cx_Oracle.makedsn(host='192.168.32.115', port=1521, service_name='diva'))\n",
    "    with connection.cursor() as cursor:\n",
    "        query = f\" delete from SPOT_MON_REVENUE where file_name = '{file.name}'\"\n",
    "        cursor.execute(query)\n",
    "        connection.commit()\n",
    "        query = f\"\"\"\n",
    "                INSERT INTO SPOT_MON_REVENUE(\n",
    "                    licensor, start_date, end_date, product, country,\n",
    "                    currency, total_tracks, revenue_share, adjusted_user, net_revenue, \n",
    "                    minima_per_user, royalty_pool, payable_type, invoice_currency, fx_rate, file_name\n",
    "                    )\n",
    "                VALUES (:1, :2, :3, :4, :5, :6, :7, :8, :9, :10, :11, :12, :13, :14, :15, :16)\n",
    "                \"\"\"\n",
    "        cursor.executemany(query, rows)\n",
    "        connection.commit()\n",
    "    connection.close()"
   ]
  },
  {
   "cell_type": "code",
   "execution_count": 78,
   "metadata": {},
   "outputs": [],
   "source": [
    "def main():\n",
    "    for file in input_path.glob(\"*.txt\"):\n",
    "        # File name checking \n",
    "        if 'spotify-revshare-for' not in file.stem:\n",
    "            print(f\"Skipping {file.stem} as it is not a Spotify revenue share file\")\n",
    "            continue\n",
    "        \n",
    "        print(f\"Start processing {file.stem}\")\n",
    "        df = pd.read_csv(file, sep=\"\\t\")\n",
    "        \n",
    "        print(\"Start data cleaning\")\n",
    "        df = clean_revenue_share(df)\n",
    "\n",
    "        # Add a new column for file name\n",
    "        df['File name'] = file.name\n",
    "        # Convert dataframe to list of tuples\n",
    "        rows = [tuple(x) for x in df.values.tolist()]\n",
    "        \n",
    "        print(\"Inserting data into database\")\n",
    "        insert_revenue_share(rows, file)\n",
    "        \n",
    "        print(f\"Done processing {file.stem}\")"
   ]
  },
  {
   "cell_type": "code",
   "execution_count": 79,
   "metadata": {},
   "outputs": [
    {
     "name": "stdout",
     "output_type": "stream",
     "text": [
      "Start processing spotify-revshare-for-filscap-202311\n",
      "Start data cleaning\n",
      "Inserting data into database\n",
      "Connected to ORACLE spotify@ddrc02\n",
      "Done processing spotify-revshare-for-filscap-202311\n"
     ]
    }
   ],
   "source": [
    "main()"
   ]
  },
  {
   "cell_type": "code",
   "execution_count": null,
   "metadata": {},
   "outputs": [],
   "source": []
  }
 ],
 "metadata": {
  "kernelspec": {
   "display_name": "Python 3",
   "language": "python",
   "name": "python3"
  },
  "language_info": {
   "codemirror_mode": {
    "name": "ipython",
    "version": 3
   },
   "file_extension": ".py",
   "mimetype": "text/x-python",
   "name": "python",
   "nbconvert_exporter": "python",
   "pygments_lexer": "ipython3",
   "version": "3.7.8"
  }
 },
 "nbformat": 4,
 "nbformat_minor": 2
}
